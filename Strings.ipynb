{
 "cells": [
  {
   "cell_type": "markdown",
   "id": "8131bae0-46ce-4651-9479-b0dc5ef17bbe",
   "metadata": {},
   "source": [
    "<h1>Python String/ String Indexing<h1>"
   ]
  },
  {
   "cell_type": "code",
   "execution_count": null,
   "id": "fbcfbae6-6620-4110-8248-e42218118d93",
   "metadata": {},
   "outputs": [],
   "source": [
    "#the string hello world is stored in mystring variable \n",
    "mystring = \"Hello World\""
   ]
  },
  {
   "cell_type": "code",
   "execution_count": 2,
   "id": "8d553a1d-e35f-4924-a3cf-d4b5e56e5489",
   "metadata": {},
   "outputs": [
    {
     "data": {
      "text/plain": [
       "'Hello World'"
      ]
     },
     "execution_count": 2,
     "metadata": {},
     "output_type": "execute_result"
    }
   ],
   "source": [
    "mystring"
   ]
  },
  {
   "cell_type": "code",
   "execution_count": 3,
   "id": "ef770cb8-b13e-487b-9419-6f5267d76095",
   "metadata": {},
   "outputs": [
    {
     "data": {
      "text/plain": [
       "'H'"
      ]
     },
     "execution_count": 3,
     "metadata": {},
     "output_type": "execute_result"
    }
   ],
   "source": [
    "#variable[index of the variable]\n",
    "mystring[0]"
   ]
  },
  {
   "cell_type": "code",
   "execution_count": 4,
   "id": "cf990087-1502-4e7c-a449-8d619c2536ce",
   "metadata": {},
   "outputs": [
    {
     "data": {
      "text/plain": [
       "'l'"
      ]
     },
     "execution_count": 4,
     "metadata": {},
     "output_type": "execute_result"
    }
   ],
   "source": [
    "#prints the letter in 3rd index\n",
    "mystring[3]"
   ]
  },
  {
   "cell_type": "code",
   "execution_count": 5,
   "id": "185231d3-36f1-45ae-b5d7-86f272dcd2d0",
   "metadata": {},
   "outputs": [
    {
     "data": {
      "text/plain": [
       "'W'"
      ]
     },
     "execution_count": 5,
     "metadata": {},
     "output_type": "execute_result"
    }
   ],
   "source": [
    "#prints letter on 6th index\n",
    "mystring[6]"
   ]
  },
  {
   "cell_type": "code",
   "execution_count": 6,
   "id": "10b44d31-2ab6-4f22-94e4-8d3503cc8e57",
   "metadata": {},
   "outputs": [
    {
     "data": {
      "text/plain": [
       "'Hello World'"
      ]
     },
     "execution_count": 6,
     "metadata": {},
     "output_type": "execute_result"
    }
   ],
   "source": [
    "#prints the entire string with [:]\n",
    "mystring[:]"
   ]
  },
  {
   "cell_type": "code",
   "execution_count": 7,
   "id": "e78c4455-0dcc-46f2-8a7b-f227a85c629c",
   "metadata": {},
   "outputs": [
    {
     "data": {
      "text/plain": [
       "'Hel'"
      ]
     },
     "execution_count": 7,
     "metadata": {},
     "output_type": "execute_result"
    }
   ],
   "source": [
    "#prints string upto 3rd index number(0,1,2)= hel\n",
    "mystring[:3] "
   ]
  },
  {
   "cell_type": "code",
   "execution_count": 8,
   "id": "d7abc267-0cb5-43d7-90eb-3c3355617bcf",
   "metadata": {},
   "outputs": [
    {
     "data": {
      "text/plain": [
       "'llo World'"
      ]
     },
     "execution_count": 8,
     "metadata": {},
     "output_type": "execute_result"
    }
   ],
   "source": [
    "#prints string from index number 2\n",
    "mystring[2:]"
   ]
  },
  {
   "cell_type": "code",
   "execution_count": 10,
   "id": "0c504932-1d02-421b-95ab-f840b5aa91fc",
   "metadata": {},
   "outputs": [
    {
     "data": {
      "text/plain": [
       "'lo Wo'"
      ]
     },
     "execution_count": 10,
     "metadata": {},
     "output_type": "execute_result"
    }
   ],
   "source": [
    "#prints middle of the string\n",
    "mystring[3:8]"
   ]
  },
  {
   "cell_type": "code",
   "execution_count": 11,
   "id": "d390cf54-a297-4bee-9b2e-cf24453a2eeb",
   "metadata": {},
   "outputs": [
    {
     "data": {
      "text/plain": [
       "'HloWrd'"
      ]
     },
     "execution_count": 11,
     "metadata": {},
     "output_type": "execute_result"
    }
   ],
   "source": [
    "#stepsize\n",
    "mystring[::2] #this jumps 2 steps or 2 letters from the original string"
   ]
  },
  {
   "cell_type": "code",
   "execution_count": 13,
   "id": "c40118e0-93ed-4661-b8b0-09dc079e5d23",
   "metadata": {},
   "outputs": [
    {
     "data": {
      "text/plain": [
       "'dlroW olleH'"
      ]
     },
     "execution_count": 13,
     "metadata": {},
     "output_type": "execute_result"
    }
   ],
   "source": [
    "#reverse the string # useful trick \n",
    "mystring[::-1]"
   ]
  },
  {
   "cell_type": "markdown",
   "id": "41f59515-b778-4ed5-8a1a-64a8bffdc05b",
   "metadata": {},
   "source": [
    "<h1>String Properties and methods<h1>"
   ]
  },
  {
   "cell_type": "markdown",
   "id": "1a78648a-8db7-464a-958f-705a06445d8e",
   "metadata": {},
   "source": [
    "<h1>Immutability<h1>"
   ]
  },
  {
   "cell_type": "code",
   "execution_count": 1,
   "id": "4ff99bb2-52b9-45ae-b134-50e81c998dc3",
   "metadata": {},
   "outputs": [],
   "source": [
    "#replacing letters of a string\n",
    "name = \"Sam\""
   ]
  },
  {
   "cell_type": "code",
   "execution_count": 3,
   "id": "900cab5e-17f3-4c8b-80a1-4d0331807c50",
   "metadata": {},
   "outputs": [],
   "source": [
    "#assign var 'name' with step size after the first letter and to new var 'last letters'  \n",
    "last_letters = name[1:]"
   ]
  },
  {
   "cell_type": "code",
   "execution_count": 4,
   "id": "8707056b-886f-4617-a2b3-501d464f6fd8",
   "metadata": {},
   "outputs": [
    {
     "data": {
      "text/plain": [
       "'am'"
      ]
     },
     "execution_count": 4,
     "metadata": {},
     "output_type": "execute_result"
    }
   ],
   "source": [
    "#this var consists of 'am'from string pam\n",
    "last_letters"
   ]
  },
  {
   "cell_type": "code",
   "execution_count": 7,
   "id": "52fd177f-f8f7-4d39-9cf1-aa41c0af0046",
   "metadata": {},
   "outputs": [
    {
     "data": {
      "text/plain": [
       "'Tam'"
      ]
     },
     "execution_count": 7,
     "metadata": {},
     "output_type": "execute_result"
    }
   ],
   "source": [
    "#now concatinate the new letter to the remaining string\n",
    "'T' + last_letters"
   ]
  },
  {
   "cell_type": "code",
   "execution_count": 5,
   "id": "6d6adc59-8b2e-4c9b-a949-ffa877e569ef",
   "metadata": {},
   "outputs": [],
   "source": [
    "x = 'Hello World'"
   ]
  },
  {
   "cell_type": "code",
   "execution_count": 10,
   "id": "26680ce3-fb56-43d6-ab7c-26e85a4df29e",
   "metadata": {},
   "outputs": [],
   "source": [
    "x= x + \" it is beautiful outside!\"\n",
    "#string concatination"
   ]
  },
  {
   "cell_type": "code",
   "execution_count": 11,
   "id": "7185e640-c821-49a0-8605-52d1446c046c",
   "metadata": {},
   "outputs": [
    {
     "data": {
      "text/plain": [
       "'Hello World it is beautiful outside! it is beautiful outside!'"
      ]
     },
     "execution_count": 11,
     "metadata": {},
     "output_type": "execute_result"
    }
   ],
   "source": [
    "x"
   ]
  },
  {
   "cell_type": "code",
   "execution_count": 2,
   "id": "8b0ab943-26e1-4b64-accd-67738d7ec6fc",
   "metadata": {},
   "outputs": [],
   "source": [
    "#printing letters multiple times\n",
    "letter = 'z'"
   ]
  },
  {
   "cell_type": "code",
   "execution_count": 4,
   "id": "82bfe942-60d4-4096-b57b-29c48b9e08b8",
   "metadata": {},
   "outputs": [
    {
     "data": {
      "text/plain": [
       "'zzzzzzzzzz'"
      ]
     },
     "execution_count": 4,
     "metadata": {},
     "output_type": "execute_result"
    }
   ],
   "source": [
    "letter * 10"
   ]
  },
  {
   "cell_type": "code",
   "execution_count": 14,
   "id": "782b8434-2935-4b63-995c-aa4e66a09781",
   "metadata": {},
   "outputs": [
    {
     "data": {
      "text/plain": [
       "5"
      ]
     },
     "execution_count": 14,
     "metadata": {},
     "output_type": "execute_result"
    }
   ],
   "source": [
    "2 + 3"
   ]
  },
  {
   "cell_type": "code",
   "execution_count": 12,
   "id": "cc165c26-20c8-45ef-8608-c35cd38a97cf",
   "metadata": {},
   "outputs": [
    {
     "data": {
      "text/plain": [
       "'23'"
      ]
     },
     "execution_count": 12,
     "metadata": {},
     "output_type": "execute_result"
    }
   ],
   "source": [
    "#this will perform concatination of 2 nos and not adiition\n",
    "'2' + '3'"
   ]
  },
  {
   "cell_type": "code",
   "execution_count": 13,
   "id": "de9165d4-126a-4e24-a86c-8b8c7a7b2d1d",
   "metadata": {},
   "outputs": [],
   "source": [
    "x = 'Hello World'"
   ]
  },
  {
   "cell_type": "code",
   "execution_count": 14,
   "id": "ebc3a360-c0b5-40cb-9cd4-47c412b6cecd",
   "metadata": {},
   "outputs": [
    {
     "data": {
      "text/plain": [
       "'HELLO WORLD'"
      ]
     },
     "execution_count": 14,
     "metadata": {},
     "output_type": "execute_result"
    }
   ],
   "source": [
    "x.upper()"
   ]
  },
  {
   "cell_type": "code",
   "execution_count": 15,
   "id": "ab2429a7-fa63-41c8-ba07-6339f3a4dd8a",
   "metadata": {},
   "outputs": [
    {
     "data": {
      "text/plain": [
       "['Hello', 'World']"
      ]
     },
     "execution_count": 15,
     "metadata": {},
     "output_type": "execute_result"
    }
   ],
   "source": [
    "x.split()"
   ]
  },
  {
   "cell_type": "code",
   "execution_count": 16,
   "id": "0c3c9dd0-121f-482d-a6cb-bc06e5621997",
   "metadata": {},
   "outputs": [],
   "source": [
    "x = 'hi this is a string'"
   ]
  },
  {
   "cell_type": "code",
   "execution_count": 17,
   "id": "6b3cf30f-75eb-4254-befb-6627ae646562",
   "metadata": {},
   "outputs": [
    {
     "data": {
      "text/plain": [
       "['hi', 'this', 'is', 'a', 'string']"
      ]
     },
     "execution_count": 17,
     "metadata": {},
     "output_type": "execute_result"
    }
   ],
   "source": [
    "x.split()"
   ]
  },
  {
   "cell_type": "code",
   "execution_count": 18,
   "id": "9e91b891-2790-4954-8325-ff99e7a1854d",
   "metadata": {},
   "outputs": [
    {
     "data": {
      "text/plain": [
       "['h', ' th', 's ', 's a str', 'ng']"
      ]
     },
     "execution_count": 18,
     "metadata": {},
     "output_type": "execute_result"
    }
   ],
   "source": [
    "#perform split on i's\n",
    "x.split('i')"
   ]
  },
  {
   "cell_type": "markdown",
   "id": "42683741-6f3a-4d6d-9a00-14d23c88c53b",
   "metadata": {},
   "source": [
    "<h1>Formatting with the .format() method</h1>\n",
    "A good way to format objects into your strins for print statements is with the string .format()\n",
    "\n",
    "'String here {} then also {}'.format('Something1'., 'something2')"
   ]
  },
  {
   "cell_type": "code",
   "execution_count": 19,
   "id": "48d40399-991f-4664-b304-8f9f4ef2a956",
   "metadata": {},
   "outputs": [
    {
     "name": "stdout",
     "output_type": "stream",
     "text": [
      "This is a string Inserted\n"
     ]
    }
   ],
   "source": [
    "print('This is a string {}'.format('Inserted'))"
   ]
  },
  {
   "cell_type": "code",
   "execution_count": 20,
   "id": "c6292701-3e27-4dce-a6f5-f8b302514348",
   "metadata": {},
   "outputs": [
    {
     "name": "stdout",
     "output_type": "stream",
     "text": [
      "The quick brown fox\n"
     ]
    }
   ],
   "source": [
    "print('The {2} {1} {0}'.format('fox', 'brown', 'quick'))"
   ]
  },
  {
   "cell_type": "code",
   "execution_count": 21,
   "id": "c4f8660f-ad72-4f31-b2d5-1e25e1aa37e9",
   "metadata": {},
   "outputs": [
    {
     "name": "stdout",
     "output_type": "stream",
     "text": [
      "The quick brown fox\n"
     ]
    }
   ],
   "source": [
    "print('The {q} {b} {f}'.format(f= 'fox', b= 'brown', q='quick'))"
   ]
  },
  {
   "cell_type": "code",
   "execution_count": 22,
   "id": "b910fe3c-051f-4d0d-a577-38708d42210a",
   "metadata": {},
   "outputs": [
    {
     "name": "stdout",
     "output_type": "stream",
     "text": [
      "The fox fox fox\n"
     ]
    }
   ],
   "source": [
    "#perform repetition\n",
    "print('The {f} {f} {f}'.format(f= 'fox', b= 'brown', q='quick'))"
   ]
  },
  {
   "cell_type": "markdown",
   "id": "df03a599-14e8-4486-9a8f-654b78962931",
   "metadata": {},
   "source": [
    "<h1>Float formatting follows \"{value: width.precision f}\"</h1>"
   ]
  },
  {
   "cell_type": "code",
   "execution_count": 23,
   "id": "593bcdbc-e7c7-4118-b684-32971f3645f0",
   "metadata": {},
   "outputs": [],
   "source": [
    "result =  100/777"
   ]
  },
  {
   "cell_type": "code",
   "execution_count": 24,
   "id": "44efe93f-bf6c-496f-9cb5-f4c570c3bfdc",
   "metadata": {},
   "outputs": [
    {
     "data": {
      "text/plain": [
       "0.1287001287001287"
      ]
     },
     "execution_count": 24,
     "metadata": {},
     "output_type": "execute_result"
    }
   ],
   "source": [
    "result"
   ]
  },
  {
   "cell_type": "code",
   "execution_count": 26,
   "id": "c4d76663-53ec-4221-98e6-8002a988939a",
   "metadata": {},
   "outputs": [
    {
     "name": "stdout",
     "output_type": "stream",
     "text": [
      "The result was 0.1287001287001287\n"
     ]
    }
   ],
   "source": [
    "print(\"The result was {r}\".format(r = result))\n"
   ]
  },
  {
   "cell_type": "code",
   "execution_count": 27,
   "id": "b1d2c073-6d10-44af-b699-7d93034fa778",
   "metadata": {},
   "outputs": [
    {
     "name": "stdout",
     "output_type": "stream",
     "text": [
      "The result was 0.129\n"
     ]
    }
   ],
   "source": [
    "print(\"The result was {r:1.3f}\".format(r = result))\n",
    "#number of decimal point values "
   ]
  },
  {
   "cell_type": "code",
   "execution_count": 28,
   "id": "92ea0550-b912-4a1c-bdb5-3f52bc942cb4",
   "metadata": {},
   "outputs": [],
   "source": [
    "name = \"Sam\"\n",
    "age = 3"
   ]
  },
  {
   "cell_type": "code",
   "execution_count": 31,
   "id": "b81a6d0f-883a-437a-b670-6b85f992cc53",
   "metadata": {},
   "outputs": [
    {
     "name": "stdout",
     "output_type": "stream",
     "text": [
      "Sam is 3 years old.\n"
     ]
    }
   ],
   "source": [
    "#use f string literals to inject or use .format method to interpolate strings\n",
    "print(f'{name} is {age} years old.')"
   ]
  },
  {
   "cell_type": "code",
   "execution_count": null,
   "id": "8e58a90a-93f1-47a4-a888-9ff0e626cf8b",
   "metadata": {},
   "outputs": [],
   "source": []
  }
 ],
 "metadata": {
  "kernelspec": {
   "display_name": "Python [conda env:base] *",
   "language": "python",
   "name": "conda-base-py"
  },
  "language_info": {
   "codemirror_mode": {
    "name": "ipython",
    "version": 3
   },
   "file_extension": ".py",
   "mimetype": "text/x-python",
   "name": "python",
   "nbconvert_exporter": "python",
   "pygments_lexer": "ipython3",
   "version": "3.13.5"
  }
 },
 "nbformat": 4,
 "nbformat_minor": 5
}
